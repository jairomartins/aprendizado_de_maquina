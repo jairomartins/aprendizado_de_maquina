{
 "cells": [
  {
   "cell_type": "markdown",
   "id": "778d99ab-8ccc-47f1-aca5-097b33af6f1a",
   "metadata": {},
   "source": [
    "# Preparando os dados para o Algoritmo de Aprendizado de Maquina\n",
    "\n",
    "A preparação de dados é o processo de preparar os dados brutos para adequá-los as etapas seguintes de processamento e analise. \n",
    "\n",
    "Segundo a AWS, a preparação de dados pode consumir até 80% do tempo investido em um projeto de ML(Machine Learing).\n",
    "\n",
    "Para entender melhor sobre **preparação de dados**, consulte este artigo da AWS:  \n",
    "[O que é preparação de dados?](https://aws.amazon.com/pt/what-is/data-preparation/)\n",
    "\n",
    "\n",
    "A preparação de dados segue uma série de etapas que começa com a coleta de dados, seguida pela limpeza, rotulagem, validação e visualização.\n"
   ]
  },
  {
   "cell_type": "markdown",
   "id": "ae0b1100-bd62-4a07-94d1-389d5191cb27",
   "metadata": {},
   "source": [
    "## Importando o arquivo com os dados"
   ]
  },
  {
   "cell_type": "code",
   "execution_count": 1,
   "id": "9a3b59ff-f9dd-4c7a-84a6-b078a71eb430",
   "metadata": {},
   "outputs": [],
   "source": [
    "import os \n",
    "import tarfile\n",
    "import urllib.request\n",
    "\n",
    "# Definindo o caminho do dataset\n",
    "DOWNLOAD_ROOT = \"https://raw.githubusercontent.com/ageron/handson-ml2/master/\"\n",
    "HOUSING_PATH = os.path.join(\"datasets\", \"housing\")\n",
    "HOUSING_URL = DOWNLOAD_ROOT + \"datasets/housing/housing.tgz\"\n",
    "\n",
    "# download do dataset\n",
    "def fetch_housing_data(housing_url=HOUSING_URL, housing_path=HOUSING_PATH):\n",
    "    os.makedirs(housing_path, exist_ok=True)\n",
    "    tgz_path = os.path.join(housing_path, \"housing.tgz\")\n",
    "    urllib.request.urlretrieve(housing_url, tgz_path) # Faz o download do arquivo\n",
    "    housing_tgz = tarfile.open(tgz_path) # Abre o arquivo\n",
    "    housing_tgz.extractall(path=housing_path) # Extrai o arquivo\n",
    "    housing_tgz.close()# Fecha o arquivo\n",
    "\n",
    "fetch_housing_data()\n"
   ]
  },
  {
   "cell_type": "markdown",
   "id": "641c02ed-3ab5-4d11-8697-100397f66090",
   "metadata": {},
   "source": [
    "### Carregando Dados"
   ]
  },
  {
   "cell_type": "code",
   "execution_count": 2,
   "id": "188133e3-071f-48b1-ad5c-0f16e9ce3a0e",
   "metadata": {},
   "outputs": [],
   "source": [
    "import pandas as pd\n",
    "\n",
    "def load_housing_data(housing_path=HOUSING_PATH):\n",
    "    csv_path = os.path.join(housing_path, \"housing.csv\")\n",
    "    return pd.read_csv(csv_path)\n",
    "\n",
    "housing = load_housing_data()\n",
    "\n"
   ]
  },
  {
   "cell_type": "markdown",
   "id": "e7f5c86a-88d9-44db-ac3b-48e000f3ee27",
   "metadata": {},
   "source": [
    "### Verificando dados ausentes"
   ]
  },
  {
   "cell_type": "code",
   "execution_count": 3,
   "id": "f5d99abc-ff30-4971-bb34-0adb65e233d9",
   "metadata": {},
   "outputs": [
    {
     "name": "stdout",
     "output_type": "stream",
     "text": [
      "longitude               0\n",
      "latitude                0\n",
      "housing_median_age      0\n",
      "total_rooms             0\n",
      "total_bedrooms        207\n",
      "population              0\n",
      "households              0\n",
      "median_income           0\n",
      "median_house_value      0\n",
      "ocean_proximity         0\n",
      "dtype: int64\n"
     ]
    }
   ],
   "source": [
    "#ver dados faltantes\n",
    "print(housing.isnull().sum())"
   ]
  },
  {
   "cell_type": "markdown",
   "id": "e60f014d-5ecf-4e6f-8166-f781a2cf13de",
   "metadata": {},
   "source": [
    "### Substituindo dados ausentes pela média:\n",
    "A limpeza de dados corrige erros e preenche dados ausentes como uma etapa de garantia da qualidade dos dados. Após a limpeza dos dados, será necessário transformá-los em um formato consistente e passível de leitura. Esse processo pode incluir a alteração de formatos de campo como datas e moeda, a modificação de convenções de nomenclatura e a correção de valores e unidades de medida para promover consistência.\n",
    "\n",
    "\n",
    "A maioria dos algoritmos de ML, não funcionam com caracteristicas faltantes. Como verificar isso no nosso projeto de estudo ?"
   ]
  },
  {
   "cell_type": "code",
   "execution_count": 4,
   "id": "1f4b976c-5582-4d6b-9b86-612fffa6be16",
   "metadata": {},
   "outputs": [],
   "source": [
    "median = housing[\"total_bedrooms\"].median()\n",
    "\n",
    "housing[\"total_bedrooms\"] = housing[\"total_bedrooms\"].fillna(median)                                                                                 "
   ]
  },
  {
   "cell_type": "markdown",
   "id": "6e0a7636-8c3e-4d1c-a34a-902299f5e1bf",
   "metadata": {},
   "source": [
    "O Scikit-Learn fornece uma classe útil: *SimpleImputer*, que substitui os valores ausentes pela media desse atributo."
   ]
  },
  {
   "cell_type": "code",
   "execution_count": 5,
   "id": "ac63d95e-e17d-4f77-8917-37ea24c63095",
   "metadata": {},
   "outputs": [],
   "source": [
    "from sklearn.impute import SimpleImputer\n",
    "imputer = SimpleImputer(strategy=\"media\")"
   ]
  },
  {
   "cell_type": "markdown",
   "id": "3fc8dce1-2f8b-41b4-845d-f5f9c43f9e00",
   "metadata": {},
   "source": [
    "### Manipulando atributos categóricos:\n",
    "A manipulação de atributos de texto e categóricos na preparação de dados para Machine Learning (ML) é fundamental porque a maioria dos algoritmos trabalha apenas com dados numéricos. Se os dados não forem processados corretamente, o modelo pode não conseguir interpretá-los, resultando em erros ou desempenho ruim.\n",
    "\n",
    "As cetegorias *'<1H OCEAN', 'INLAND', 'ISLAND', 'NEAR BAY', 'NEAR OCEAN'* precisam ser trasnfomadas em números antes do treinamento:\n"
   ]
  },
  {
   "cell_type": "code",
   "execution_count": 10,
   "id": "4c36777e-ceb9-4dd1-af7a-364c20edc5ad",
   "metadata": {},
   "outputs": [],
   "source": [
    "housing_cat = housing[[\"ocean_proximity\"]]\n",
    "\n",
    "from sklearn.preprocessing import OrdinalEncoder\n",
    "ordinal_encoder = OrdinalEncoder()\n",
    "housing_cat_encoded = ordinal_encoder.fit_transform(housing_cat)"
   ]
  },
  {
   "cell_type": "code",
   "execution_count": 8,
   "id": "5d4ae088-f6b3-42a8-9ab1-9e635347fd69",
   "metadata": {},
   "outputs": [
    {
     "data": {
      "text/plain": [
       "array([[3.],\n",
       "       [3.],\n",
       "       [3.],\n",
       "       [3.],\n",
       "       [3.],\n",
       "       [3.],\n",
       "       [3.],\n",
       "       [3.],\n",
       "       [3.],\n",
       "       [3.]])"
      ]
     },
     "execution_count": 8,
     "metadata": {},
     "output_type": "execute_result"
    }
   ],
   "source": [
    "housing_cat_encoded[:10]"
   ]
  },
  {
   "cell_type": "code",
   "execution_count": 9,
   "id": "812b9383-1167-41a7-a2cb-f93f3bde7c89",
   "metadata": {},
   "outputs": [
    {
     "data": {
      "text/plain": [
       "[array(['<1H OCEAN', 'INLAND', 'ISLAND', 'NEAR BAY', 'NEAR OCEAN'],\n",
       "       dtype=object)]"
      ]
     },
     "execution_count": 9,
     "metadata": {},
     "output_type": "execute_result"
    }
   ],
   "source": [
    "ordinal_encoder.categories_"
   ]
  },
  {
   "cell_type": "code",
   "execution_count": null,
   "id": "8edca1a6-e190-4e0e-98ea-e2b8d32c539b",
   "metadata": {},
   "outputs": [],
   "source": []
  }
 ],
 "metadata": {
  "kernelspec": {
   "display_name": "Python 3 (ipykernel)",
   "language": "python",
   "name": "python3"
  },
  "language_info": {
   "codemirror_mode": {
    "name": "ipython",
    "version": 3
   },
   "file_extension": ".py",
   "mimetype": "text/x-python",
   "name": "python",
   "nbconvert_exporter": "python",
   "pygments_lexer": "ipython3",
   "version": "3.11.2"
  }
 },
 "nbformat": 4,
 "nbformat_minor": 5
}
